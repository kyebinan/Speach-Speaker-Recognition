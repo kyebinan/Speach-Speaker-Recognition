{
 "cells": [
  {
   "cell_type": "code",
   "execution_count": 1,
   "metadata": {},
   "outputs": [],
   "source": [
    "import numpy as np\n",
    "import matplotlib.pyplot as plt\n",
    "from prondict import prondict\n",
    "from lab2_proto import *\n",
    "from lab2_tools import *\n",
    "import warnings"
   ]
  },
  {
   "cell_type": "code",
   "execution_count": 2,
   "metadata": {},
   "outputs": [
    {
     "name": "stdout",
     "output_type": "stream",
     "text": [
      "Keys in 'lab2_data.npz': ['filename', 'samplingrate', 'gender', 'speaker', 'digit', 'repetition', 'samples', 'lmfcc']\n",
      "Keys in 'lab2_example.npz': ['filename', 'samplingrate', 'gender', 'speaker', 'digit', 'repetition', 'samples', 'lmfcc', 'obsloglik', 'logalpha', 'loglik', 'vloglik', 'vpath', 'logbeta', 'loggamma']\n",
      "Keys in 'lab2_models_all.npz': ['f', 'k', 'n', 'r', 's', 't', 'v', 'w', 'z', 'ah', 'ao', 'ay', 'eh', 'ey', 'ih', 'iy', 'ow', 'sp', 'th', 'uw', 'sil']\n",
      "Keys in 'lab2_models_onespkr.npz': ['f', 'k', 'n', 'r', 's', 't', 'v', 'w', 'z', 'ah', 'ao', 'ay', 'eh', 'ey', 'ih', 'iy', 'ow', 'sp', 'th', 'uw', 'sil']\n"
     ]
    }
   ],
   "source": [
    "warnings.filterwarnings(\"ignore\", category=RuntimeWarning)\n",
    "\n",
    "data = np.load('lab2_data.npz', allow_pickle=True)['data']\n",
    "example = np.load('lab2_example.npz', allow_pickle=True)['example'].item()\n",
    "all_spkr_phone_HMMs = np.load('lab2_models_all.npz', allow_pickle=True)['phoneHMMs'].item()\n",
    "one_spkr_phone_HMMs = np.load('lab2_models_onespkr.npz', allow_pickle=True)['phoneHMMs'].item()\n",
    "\n",
    "# Print keys for each .npz file\n",
    "print(\"Keys in 'lab2_data.npz':\", list(data[1].keys()))\n",
    "print(\"Keys in 'lab2_example.npz':\", list(example.keys()))\n",
    "print(\"Keys in 'lab2_models_all.npz':\", list(all_spkr_phone_HMMs.keys()))\n",
    "print(\"Keys in 'lab2_models_onespkr.npz':\", list(one_spkr_phone_HMMs.keys()))\n"
   ]
  },
  {
   "cell_type": "code",
   "execution_count": 3,
   "metadata": {},
   "outputs": [
    {
     "name": "stdout",
     "output_type": "stream",
     "text": [
      "{'o': ['sil', 'ow', 'sil'], 'z': ['sil', 'z', 'iy', 'r', 'ow', 'sil'], '1': ['sil', 'w', 'ah', 'n', 'sil'], '2': ['sil', 't', 'uw', 'sil'], '3': ['sil', 'th', 'r', 'iy', 'sil'], '4': ['sil', 'f', 'ao', 'r', 'sil'], '5': ['sil', 'f', 'ay', 'v', 'sil'], '6': ['sil', 's', 'ih', 'k', 's', 'sil'], '7': ['sil', 's', 'eh', 'v', 'ah', 'n', 'sil'], '8': ['sil', 'ey', 't', 'sil'], '9': ['sil', 'n', 'ay', 'n', 'sil']}\n"
     ]
    }
   ],
   "source": [
    "# Concat\n",
    "isolated = {}\n",
    "for digit in prondict.keys():\n",
    "  isolated[digit] = [\"sil\"] + prondict[digit] + [\"sil\"]\n",
    "\n",
    "print(isolated)\n",
    "\n",
    "all_spkr_word_HMMs, one_spkr_word_HMMs = {}, {}\n",
    "all_spkr_word_HMMs[\"o\"] = concatHMMs(all_spkr_phone_HMMs, isolated[\"o\"])\n",
    "one_spkr_word_HMMs[\"o\"] = concatHMMs(all_spkr_phone_HMMs, isolated[\"o\"])"
   ]
  },
  {
   "cell_type": "code",
   "execution_count": 4,
   "metadata": {},
   "outputs": [
    {
     "data": {
      "image/png": "[encoded data removed]",
      "text/plain": [
       "<Figure size 720x216 with 1 Axes>"
      ]
     },
     "metadata": {
      "needs_background": "light"
     },
     "output_type": "display_data"
    },
    {
     "data": {
      "image/png": "[encoded data removed]",
      "text/plain": [
       "<Figure size 720x216 with 1 Axes>"
      ]
     },
     "metadata": {
      "needs_background": "light"
     },
     "output_type": "display_data"
    }
   ],
   "source": [
    "# Gaussian Plot\n",
    "all_obsloglik = log_multivariate_normal_density_diag(example[\"lmfcc\"], all_spkr_word_HMMs[\"o\"][\"means\"], all_spkr_word_HMMs[\"o\"][\"covars\"])\n",
    "one_obsloglik = log_multivariate_normal_density_diag(example[\"lmfcc\"], one_spkr_word_HMMs[\"o\"][\"means\"], one_spkr_word_HMMs[\"o\"][\"covars\"])\n",
    "\n",
    "fig, ax = plt.subplots(figsize=(10, 3))\n",
    "ax.pcolormesh(all_obsloglik.T, cmap='viridis')\n",
    "ax.set_title('Our obslogik')\n",
    "plt.show()\n",
    "\n",
    "fig, ax = plt.subplots(figsize=(10, 3))\n",
    "ax.pcolormesh(one_obsloglik.T, cmap='viridis')\n",
    "ax.set_title('Our obslogik')\n",
    "plt.show()"
   ]
  },
  {
   "cell_type": "code",
   "execution_count": 5,
   "metadata": {},
   "outputs": [
    {
     "name": "stdout",
     "output_type": "stream",
     "text": [
      "Shape of log_startprob: (10,)\n",
      "Shape of log_emlik[0]: (9,)\n"
     ]
    }
   ],
   "source": [
    "# Debugging \n",
    "print(\"Shape of log_startprob:\", np.log(one_spkr_word_HMMs[\"o\"][\"startprob\"]).shape)\n",
    "print(\"Shape of log_emlik[0]:\", example[\"obsloglik\"][0].shape)\n"
   ]
  },
  {
   "cell_type": "code",
   "execution_count": 6,
   "metadata": {},
   "outputs": [],
   "source": [
    "# # Adjusted use of log_startprob by excluding the non-emitting state's probability\n",
    "# adjusted_startprob = np.log(one_spkr_word_HMMs[\"o\"][\"startprob\"][:-1])\n",
    "# # Adjusting the transition matrix by removing the last row and column\n",
    "# adjusted_transmat = np.log(one_spkr_word_HMMs[\"o\"][\"transmat\"][:-1, :-1])\n",
    "\n",
    "\n",
    "# # Recalculate forward probabilities with adjusted start probabilities\n",
    "# logalpha = forward(example[\"obsloglik\"], np.log(one_spkr_word_HMMs[\"o\"][\"startprob\"]), np.log(one_spkr_word_HMMs[\"o\"][\"transmat\"]))"
   ]
  },
  {
   "cell_type": "code",
   "execution_count": 7,
   "metadata": {},
   "outputs": [
    {
     "data": {
      "image/png": "[encoded data removed]",
      "text/plain": [
       "<Figure size 720x216 with 1 Axes>"
      ]
     },
     "metadata": {
      "needs_background": "light"
     },
     "output_type": "display_data"
    },
    {
     "data": {
      "image/png": "[encoded data removed]",
      "text/plain": [
       "<Figure size 720x216 with 1 Axes>"
      ]
     },
     "metadata": {
      "needs_background": "light"
     },
     "output_type": "display_data"
    }
   ],
   "source": [
    "# Forward\n",
    "logalpha = forward(example[\"obsloglik\"], np.log(one_spkr_word_HMMs[\"o\"][\"startprob\"]), np.log(one_spkr_word_HMMs[\"o\"][\"transmat\"]))\n",
    "fig, ax = plt.subplots(figsize=(10, 3))\n",
    "ax.pcolormesh(logalpha.T, cmap='viridis')\n",
    "ax.set_title('Our logalpha')\n",
    "plt.show()\n",
    "\n",
    "fig, ax = plt.subplots(figsize=(10, 3))\n",
    "ax.pcolormesh(example[\"logalpha\"].T, cmap='viridis')\n",
    "ax.set_title('Correct logalpha')\n",
    "plt.show()\n"
   ]
  },
  {
   "cell_type": "code",
   "execution_count": 8,
   "metadata": {},
   "outputs": [],
   "source": [
    "# Backward\n",
    "logbeta = backward(one_obsloglik, np.log(one_spkr_word_HMMs['o']['startprob']), np.log(one_spkr_word_HMMs['o']['transmat']))"
   ]
  },
  {
   "cell_type": "code",
   "execution_count": 9,
   "metadata": {},
   "outputs": [
    {
     "data": {
      "image/png": "[encoded data removed]",
      "text/plain": [
       "<Figure size 720x216 with 1 Axes>"
      ]
     },
     "metadata": {
      "needs_background": "light"
     },
     "output_type": "display_data"
    },
    {
     "data": {
      "image/png": "[encoded data removed]",
      "text/plain": [
       "<Figure size 720x216 with 1 Axes>"
      ]
     },
     "metadata": {
      "needs_background": "light"
     },
     "output_type": "display_data"
    }
   ],
   "source": [
    "fig, ax = plt.subplots(figsize=(10, 3))\n",
    "ax.pcolormesh(logbeta.T, cmap='viridis')\n",
    "ax.set_title('Our logbeta')\n",
    "plt.show()\n",
    "\n",
    "fig, ax = plt.subplots(figsize=(10, 3))\n",
    "ax.pcolormesh(example[\"logbeta\"].T, cmap='viridis')\n",
    "ax.set_title('Correct logbeta')\n",
    "plt.show()"
   ]
  },
  {
   "cell_type": "code",
   "execution_count": 10,
   "metadata": {},
   "outputs": [],
   "source": [
    "# Viterbi\n"
   ]
  },
  {
   "cell_type": "code",
   "execution_count": 11,
   "metadata": {},
   "outputs": [],
   "source": [
    "# Baum-welch"
   ]
  }
 ],
 "metadata": {
  "kernelspec": {
   "display_name": "Python 3",
   "language": "python",
   "name": "python3"
  },
  "language_info": {
   "codemirror_mode": {
    "name": "ipython",
    "version": 3
   },
   "file_extension": ".py",
   "mimetype": "text/x-python",
   "name": "python",
   "nbconvert_exporter": "python",
   "pygments_lexer": "ipython3",
   "version": "3.9.12"
  }
 },
 "nbformat": 4,
 "nbformat_minor": 2
}

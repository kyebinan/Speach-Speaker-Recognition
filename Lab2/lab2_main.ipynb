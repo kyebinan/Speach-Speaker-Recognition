{
 "cells": [
  {
   "cell_type": "code",
   "execution_count": null,
   "metadata": {},
   "outputs": [],
   "source": [
    "import numpy as np\n",
    "import matplotlib.pyplot as plt\n",
    "import prondict\n",
    "from lab2_proto import *\n",
    "from lab2_tools import *\n",
    "import warnings\n",
    "\n",
    "warnings.filterwarnings(\"ignore\", category=RuntimeWarning)\n",
    "\n",
    "data = np.load('lab2_data.npz', allow_pickle=True)['data']\n",
    "example = np.load('lab2_example.npz', allow_pickle=True)['example'].item()\n",
    "phoneHMMs = np.load('lab2_models_all.npz', allow_pickle=True)['phoneHMMs'].item()\n",
    "\n",
    "# Print keys for each .npz file\n",
    "print(\"Keys in 'lab2_data.npz':\", list(data[1].keys()))\n",
    "print(\"Keys in 'lab2_example.npz':\", list(example.keys()))\n",
    "print(\"Keys in 'lab2_models_all.npz':\", list(phoneHMMs.keys()))\n",
    "\n",
    "# Concat\n",
    "isolated = {}\n",
    "for digit in prondict.keys():\n",
    "  isolated[digit] = [\"sil\"] + prondict[digit] + [\"sil\"]\n",
    "\n",
    "wordHMMs = {}\n",
    "wordHMMs[\"o\"] = concatHMMs(phoneHMMs, isolated[\"o\"])\n",
    "\n",
    "# Gaussian Plot\n",
    "test = log_multivariate_normal_density_diag(example[\"lmfcc\"], wordHMMs[\"o\"][\"means\"], wordHMMs[\"o\"][\"covars\"])\n",
    "\n",
    "fig, ax = plt.subplots(figsize=(10, 3))\n",
    "ax.pcolormesh(test.T, cmap='viridis')\n",
    "ax.set_title('Our obslogik')\n",
    "plt.show()\n",
    "\n",
    "# Forward\n",
    "\n",
    "\n",
    "# Viterbi\n",
    "\n",
    "\n",
    "\n",
    "# Baum-welch\n"
   ]
  }
 ],
 "metadata": {
  "language_info": {
   "name": "python"
  }
 },
 "nbformat": 4,
 "nbformat_minor": 2
}
